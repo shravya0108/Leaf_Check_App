{
 "cells": [
  {
   "cell_type": "code",
   "execution_count": 1,
   "id": "4fa2eb44",
   "metadata": {},
   "outputs": [],
   "source": [
    "# Importing Keras libraries and packages\n",
    "from keras.models import Sequential\n",
    "from keras.layers import Convolution2D\n",
    "from keras.layers import MaxPooling2D\n",
    "from keras.layers import Flatten\n",
    "from keras.layers import Dense\n",
    "from keras.layers import Dropout\n",
    "from keras.layers import BatchNormalization"
   ]
  },
  {
   "cell_type": "code",
   "execution_count": 2,
   "id": "2f51c09a",
   "metadata": {},
   "outputs": [],
   "source": [
    "import os \n",
    "import cv2\n",
    "import glob\n",
    "import pandas as pd\n",
    "import numpy as np\n",
    "import tensorflow as tf\n",
    "import matplotlib.pyplot as plt\n",
    "from keras.layers import Dense\n",
    "from keras.models import Sequential\n",
    "from keras.preprocessing import image\n",
    "from tensorflow.keras.optimizers import Adam\n",
    "from tensorflow.keras.models import Model\n",
    "from keras.callbacks import ReduceLROnPlateau\n",
    "from tensorflow.keras.applications.vgg16 import VGG16\n",
    "from tensorflow.keras.applications.vgg19 import VGG19\n",
    "from keras.preprocessing.image import ImageDataGenerator\n",
    "from tensorflow.keras.applications.inception_v3 import InceptionV3\n",
    "from tensorflow.keras.applications.inception_v3 import preprocess_input\n",
    "from keras.layers import Convolution2D,Dense,MaxPool2D,Activation,Dropout,Flatten\n",
    "from keras.layers import Input, Add, Dense, Activation, ZeroPadding2D, BatchNormalization, Flatten, Conv2D, AveragePooling2D, MaxPooling2D"
   ]
  },
  {
   "cell_type": "markdown",
   "id": "89a2b900",
   "metadata": {},
   "source": [
    "Alexnet"
   ]
  },
  {
   "cell_type": "code",
   "execution_count": 3,
   "id": "3178bbce",
   "metadata": {},
   "outputs": [
    {
     "name": "stdout",
     "output_type": "stream",
     "text": [
      "Model: \"sequential\"\n",
      "_________________________________________________________________\n",
      " Layer (type)                Output Shape              Param #   \n",
      "=================================================================\n",
      " conv2d (Conv2D)             (None, 54, 54, 96)        34944     \n",
      "                                                                 \n",
      " max_pooling2d (MaxPooling2D  (None, 27, 27, 96)       0         \n",
      " )                                                               \n",
      "                                                                 \n",
      " batch_normalization (BatchN  (None, 27, 27, 96)       384       \n",
      " ormalization)                                                   \n",
      "                                                                 \n",
      " conv2d_1 (Conv2D)           (None, 17, 17, 256)       2973952   \n",
      "                                                                 \n",
      " max_pooling2d_1 (MaxPooling  (None, 8, 8, 256)        0         \n",
      " 2D)                                                             \n",
      "                                                                 \n",
      " batch_normalization_1 (Batc  (None, 8, 8, 256)        1024      \n",
      " hNormalization)                                                 \n",
      "                                                                 \n",
      " conv2d_2 (Conv2D)           (None, 6, 6, 384)         885120    \n",
      "                                                                 \n",
      " batch_normalization_2 (Batc  (None, 6, 6, 384)        1536      \n",
      " hNormalization)                                                 \n",
      "                                                                 \n",
      " conv2d_3 (Conv2D)           (None, 4, 4, 384)         1327488   \n",
      "                                                                 \n",
      " batch_normalization_3 (Batc  (None, 4, 4, 384)        1536      \n",
      " hNormalization)                                                 \n",
      "                                                                 \n",
      " conv2d_4 (Conv2D)           (None, 2, 2, 256)         884992    \n",
      "                                                                 \n",
      " max_pooling2d_2 (MaxPooling  (None, 1, 1, 256)        0         \n",
      " 2D)                                                             \n",
      "                                                                 \n",
      " batch_normalization_4 (Batc  (None, 1, 1, 256)        1024      \n",
      " hNormalization)                                                 \n",
      "                                                                 \n",
      " flatten (Flatten)           (None, 256)               0         \n",
      "                                                                 \n",
      " dense (Dense)               (None, 4096)              1052672   \n",
      "                                                                 \n",
      " dropout (Dropout)           (None, 4096)              0         \n",
      "                                                                 \n",
      " batch_normalization_5 (Batc  (None, 4096)             16384     \n",
      " hNormalization)                                                 \n",
      "                                                                 \n",
      " dense_1 (Dense)             (None, 4096)              16781312  \n",
      "                                                                 \n",
      " dropout_1 (Dropout)         (None, 4096)              0         \n",
      "                                                                 \n",
      " batch_normalization_6 (Batc  (None, 4096)             16384     \n",
      " hNormalization)                                                 \n",
      "                                                                 \n",
      " dense_2 (Dense)             (None, 1000)              4097000   \n",
      "                                                                 \n",
      " dropout_2 (Dropout)         (None, 1000)              0         \n",
      "                                                                 \n",
      " batch_normalization_7 (Batc  (None, 1000)             4000      \n",
      " hNormalization)                                                 \n",
      "                                                                 \n",
      " dense_3 (Dense)             (None, 3)                 3003      \n",
      "                                                                 \n",
      "=================================================================\n",
      "Total params: 28,082,755\n",
      "Trainable params: 28,061,619\n",
      "Non-trainable params: 21,136\n",
      "_________________________________________________________________\n"
     ]
    }
   ],
   "source": [
    "#Alexnet  architecture using TensorFlow Keras API, consisting of several convolutional, pooling, \n",
    "#batch normalization, and fully connected layers, with the specified input shape and number of classes.\n",
    "# Initializing the CNN\n",
    "num_classes=3\n",
    "model = Sequential()\n",
    "# Convolution Step 1\n",
    "model.add(Convolution2D(96, 11, strides = (4, 4), padding = 'valid', input_shape=(224, 224, 3), activation = 'relu'))\n",
    "# Max Pooling Step 1\n",
    "model.add(MaxPooling2D(pool_size = (2, 2), strides = (2, 2), padding = 'valid'))\n",
    "model.add(BatchNormalization())\n",
    "# Convolution Step 2\n",
    "model.add(Convolution2D(256, 11, strides = (1, 1), padding='valid', activation = 'relu'))\n",
    "# Max Pooling Step 2\n",
    "model.add(MaxPooling2D(pool_size = (2, 2), strides = (2, 2), padding='valid'))\n",
    "model.add(BatchNormalization())\n",
    "# Convolution Step 3\n",
    "model.add(Convolution2D(384, 3, strides = (1, 1), padding='valid', activation = 'relu'))\n",
    "model.add(BatchNormalization())\n",
    "# Convolution Step 4\n",
    "model.add(Convolution2D(384, 3, strides = (1, 1), padding='valid', activation = 'relu'))\n",
    "model.add(BatchNormalization())\n",
    "# Convolution Step 5\n",
    "model.add(Convolution2D(256, 3, strides=(1,1), padding='valid', activation = 'relu'))\n",
    "# Max Pooling Step 3\n",
    "model.add(MaxPooling2D(pool_size = (2, 2), strides = (2, 2), padding = 'valid'))\n",
    "model.add(BatchNormalization())\n",
    "# Flattening Step\n",
    "model.add(Flatten())\n",
    "# Full Connection Step\n",
    "model.add(Dense(units = 4096, activation = 'relu'))\n",
    "model.add(Dropout(0.4))\n",
    "model.add(BatchNormalization())\n",
    "model.add(Dense(units = 4096, activation = 'relu'))\n",
    "model.add(Dropout(0.4))\n",
    "model.add(BatchNormalization())\n",
    "model.add(Dense(units = 1000, activation = 'relu'))\n",
    "model.add(Dropout(0.2))\n",
    "model.add(BatchNormalization())\n",
    "model.add(Dense(units = num_classes, activation = 'softmax'))\n",
    "model.summary()"
   ]
  },
  {
   "cell_type": "code",
   "execution_count": 4,
   "id": "975902fd",
   "metadata": {},
   "outputs": [],
   "source": [
    "#This code imports the ImageDataGenerator class from the Keras library and creates two instances of it, \n",
    "#train_datagen and test_datagen, with specified image transformations. The train_datagen instance rescales the pixel \n",
    "#values of images to be between 0 and 1, \n",
    "#randomly applies shearing, zooming, and horizontal flipping transformations during training.\n",
    "from keras.preprocessing.image import ImageDataGenerator\n",
    "train_datagen=ImageDataGenerator(\n",
    "    rescale=1./255,\n",
    "    shear_range=0.2,\n",
    "    zoom_range=0.2,\n",
    "    horizontal_flip=True\n",
    "    )\n",
    "test_datagen=ImageDataGenerator(rescale=1./255)"
   ]
  },
  {
   "cell_type": "code",
   "execution_count": 5,
   "id": "0f6ea442",
   "metadata": {},
   "outputs": [
    {
     "name": "stdout",
     "output_type": "stream",
     "text": [
      "Found 1008 images belonging to 3 classes.\n"
     ]
    }
   ],
   "source": [
    "#will generate batches of image data from the \"dataset1/train1\" directory with images resized to 224x224 pixels \n",
    "#and a batch size of 32, which will be used for validation during model training.\n",
    "validation_generator = train_datagen.flow_from_directory(\n",
    "                       \"dataset1/train1\",\n",
    "                       target_size=(224, 224),\n",
    "                       batch_size=32)\n",
    "     "
   ]
  },
  {
   "cell_type": "code",
   "execution_count": 6,
   "id": "6290aacf",
   "metadata": {},
   "outputs": [
    {
     "name": "stdout",
     "output_type": "stream",
     "text": [
      "Found 5163 images belonging to 3 classes.\n",
      "Found 60 images belonging to 3 classes.\n"
     ]
    }
   ],
   "source": [
    "#two generator objects, train_generator and test_generator, for generating batches of image data during model training and \n",
    "#testing.\n",
    "train_dir=r\"E:\\new_dataset\\train\"\n",
    "test_dir=\"D:/dataset for project/test\"\n",
    "input_shape=(256,256,3)\n",
    "train_generator =train_datagen.flow_from_directory(train_dir,target_size=(224,224),batch_size=32)\n",
    "test_generator=test_datagen.flow_from_directory(test_dir,shuffle=True,target_size=(224,224),batch_size=32)"
   ]
  },
  {
   "cell_type": "code",
   "execution_count": 8,
   "id": "7abc5f68",
   "metadata": {},
   "outputs": [
    {
     "name": "stdout",
     "output_type": "stream",
     "text": [
      "Epoch 1/40\n",
      "162/162 [==============================] - 2583s 16s/step - loss: 1.2576 - accuracy: 0.5720 - val_loss: 1.2254 - val_accuracy: 0.4766 - lr: 0.0010\n",
      "Epoch 2/40\n",
      "162/162 [==============================] - 2455s 15s/step - loss: 0.8630 - accuracy: 0.6320 - val_loss: 1.1373 - val_accuracy: 0.5938 - lr: 0.0010\n",
      "Epoch 3/40\n",
      "162/162 [==============================] - 2339s 14s/step - loss: 0.8023 - accuracy: 0.6643 - val_loss: 0.6765 - val_accuracy: 0.7344 - lr: 0.0010\n",
      "Epoch 4/40\n",
      "162/162 [==============================] - 2533s 16s/step - loss: 0.7631 - accuracy: 0.6860 - val_loss: 0.8746 - val_accuracy: 0.7109 - lr: 0.0010\n",
      "Epoch 5/40\n",
      "162/162 [==============================] - 2583s 16s/step - loss: 0.7548 - accuracy: 0.6905 - val_loss: 0.8731 - val_accuracy: 0.6172 - lr: 0.0010\n",
      "Epoch 6/40\n",
      "162/162 [==============================] - 2553s 16s/step - loss: 0.6949 - accuracy: 0.7211 - val_loss: 0.9321 - val_accuracy: 0.6016 - lr: 0.0010\n",
      "Epoch 7/40\n",
      "162/162 [==============================] - 2362s 15s/step - loss: 0.5916 - accuracy: 0.7612 - val_loss: 0.4776 - val_accuracy: 0.8047 - lr: 3.0000e-04\n",
      "Epoch 8/40\n",
      "162/162 [==============================] - 2416s 15s/step - loss: 0.5715 - accuracy: 0.7784 - val_loss: 0.6450 - val_accuracy: 0.7422 - lr: 3.0000e-04\n",
      "Epoch 9/40\n",
      "162/162 [==============================] - 2650s 16s/step - loss: 0.5433 - accuracy: 0.7864 - val_loss: 0.8596 - val_accuracy: 0.6719 - lr: 3.0000e-04\n",
      "Epoch 10/40\n",
      "162/162 [==============================] - 2575s 16s/step - loss: 0.5341 - accuracy: 0.7912 - val_loss: 0.9281 - val_accuracy: 0.6953 - lr: 3.0000e-04\n",
      "Epoch 11/40\n",
      "162/162 [==============================] - 2323s 14s/step - loss: 0.4685 - accuracy: 0.8143 - val_loss: 0.6317 - val_accuracy: 0.8203 - lr: 9.0000e-05\n",
      "Epoch 12/40\n",
      "162/162 [==============================] - 2333s 14s/step - loss: 0.4480 - accuracy: 0.8228 - val_loss: 0.4758 - val_accuracy: 0.8281 - lr: 9.0000e-05\n",
      "Epoch 13/40\n",
      "162/162 [==============================] - 2312s 14s/step - loss: 0.4226 - accuracy: 0.8381 - val_loss: 0.6741 - val_accuracy: 0.7266 - lr: 9.0000e-05\n",
      "Epoch 14/40\n",
      "162/162 [==============================] - 2411s 15s/step - loss: 0.4121 - accuracy: 0.8423 - val_loss: 0.6683 - val_accuracy: 0.8672 - lr: 9.0000e-05\n",
      "Epoch 15/40\n",
      "162/162 [==============================] - 2326s 14s/step - loss: 0.3978 - accuracy: 0.8489 - val_loss: 0.2976 - val_accuracy: 0.9297 - lr: 9.0000e-05\n",
      "Epoch 16/40\n",
      "162/162 [==============================] - 2460s 15s/step - loss: 0.3796 - accuracy: 0.8569 - val_loss: 1.7258 - val_accuracy: 0.5781 - lr: 9.0000e-05\n",
      "Epoch 17/40\n",
      "162/162 [==============================] - 2610s 16s/step - loss: 0.3888 - accuracy: 0.8497 - val_loss: 0.5201 - val_accuracy: 0.8516 - lr: 9.0000e-05\n",
      "Epoch 18/40\n",
      "162/162 [==============================] - 2505s 15s/step - loss: 0.3672 - accuracy: 0.8584 - val_loss: 1.1495 - val_accuracy: 0.6875 - lr: 9.0000e-05\n",
      "Epoch 19/40\n",
      "162/162 [==============================] - 3245s 20s/step - loss: 0.3241 - accuracy: 0.8758 - val_loss: 0.2776 - val_accuracy: 0.9453 - lr: 2.7000e-05\n",
      "Epoch 20/40\n",
      "162/162 [==============================] - 3271s 20s/step - loss: 0.2997 - accuracy: 0.8882 - val_loss: 0.5093 - val_accuracy: 0.9219 - lr: 2.7000e-05\n",
      "Epoch 21/40\n",
      "162/162 [==============================] - 3392s 21s/step - loss: 0.2913 - accuracy: 0.8906 - val_loss: 0.2214 - val_accuracy: 0.9453 - lr: 2.7000e-05\n",
      "Epoch 22/40\n",
      "162/162 [==============================] - 2767s 17s/step - loss: 0.2756 - accuracy: 0.8979 - val_loss: 0.3241 - val_accuracy: 0.9375 - lr: 2.7000e-05\n",
      "Epoch 23/40\n",
      "162/162 [==============================] - 2269s 14s/step - loss: 0.2724 - accuracy: 0.8931 - val_loss: 0.3870 - val_accuracy: 0.9297 - lr: 2.7000e-05\n",
      "Epoch 24/40\n",
      "162/162 [==============================] - 2194s 14s/step - loss: 0.2579 - accuracy: 0.9026 - val_loss: 0.6384 - val_accuracy: 0.9141 - lr: 2.7000e-05\n",
      "Epoch 25/40\n",
      "162/162 [==============================] - 2157s 13s/step - loss: 0.2444 - accuracy: 0.9092 - val_loss: 0.5454 - val_accuracy: 0.9375 - lr: 8.1000e-06\n",
      "Epoch 26/40\n",
      "162/162 [==============================] - 2154s 13s/step - loss: 0.2421 - accuracy: 0.9092 - val_loss: 0.5459 - val_accuracy: 0.8984 - lr: 8.1000e-06\n",
      "Epoch 27/40\n",
      "162/162 [==============================] - 2131s 13s/step - loss: 0.2476 - accuracy: 0.9084 - val_loss: 0.7874 - val_accuracy: 0.8906 - lr: 8.1000e-06\n",
      "Epoch 28/40\n",
      "162/162 [==============================] - 2143s 13s/step - loss: 0.2225 - accuracy: 0.9156 - val_loss: 0.4451 - val_accuracy: 0.9375 - lr: 2.4300e-06\n",
      "Epoch 29/40\n",
      "162/162 [==============================] - 2145s 13s/step - loss: 0.2331 - accuracy: 0.9146 - val_loss: 0.5471 - val_accuracy: 0.9219 - lr: 2.4300e-06\n",
      "Epoch 30/40\n",
      "162/162 [==============================] - 2144s 13s/step - loss: 0.2120 - accuracy: 0.9208 - val_loss: 1.0395 - val_accuracy: 0.8750 - lr: 2.4300e-06\n",
      "Epoch 31/40\n",
      "162/162 [==============================] - 2134s 13s/step - loss: 0.2282 - accuracy: 0.9142 - val_loss: 0.6177 - val_accuracy: 0.9297 - lr: 1.0000e-06\n",
      "Epoch 32/40\n",
      "162/162 [==============================] - 2140s 13s/step - loss: 0.2101 - accuracy: 0.9274 - val_loss: 0.3143 - val_accuracy: 0.9375 - lr: 1.0000e-06\n",
      "Epoch 33/40\n",
      "162/162 [==============================] - 2157s 13s/step - loss: 0.2184 - accuracy: 0.9200 - val_loss: 0.4575 - val_accuracy: 0.9141 - lr: 1.0000e-06\n",
      "Epoch 34/40\n",
      "162/162 [==============================] - 2155s 13s/step - loss: 0.2220 - accuracy: 0.9194 - val_loss: 0.5826 - val_accuracy: 0.9297 - lr: 1.0000e-06\n",
      "Epoch 35/40\n",
      "162/162 [==============================] - 2167s 13s/step - loss: 0.2177 - accuracy: 0.9198 - val_loss: 0.6552 - val_accuracy: 0.9609 - lr: 1.0000e-06\n",
      "Epoch 36/40\n",
      "162/162 [==============================] - 2169s 13s/step - loss: 0.2095 - accuracy: 0.9250 - val_loss: 0.9778 - val_accuracy: 0.9062 - lr: 1.0000e-06\n",
      "Epoch 37/40\n",
      "162/162 [==============================] - 2186s 13s/step - loss: 0.2238 - accuracy: 0.9185 - val_loss: 0.3671 - val_accuracy: 0.9453 - lr: 1.0000e-06\n",
      "Epoch 38/40\n",
      "162/162 [==============================] - 2146s 13s/step - loss: 0.2142 - accuracy: 0.9231 - val_loss: 0.6937 - val_accuracy: 0.9297 - lr: 1.0000e-06\n",
      "Epoch 39/40\n",
      "162/162 [==============================] - 2229s 14s/step - loss: 0.2148 - accuracy: 0.9212 - val_loss: 0.6324 - val_accuracy: 0.9297 - lr: 1.0000e-06\n",
      "Epoch 40/40\n",
      "162/162 [==============================] - 2250s 14s/step - loss: 0.2231 - accuracy: 0.9181 - val_loss: 0.7698 - val_accuracy: 0.9141 - lr: 1.0000e-06\n"
     ]
    }
   ],
   "source": [
    "#It then trains the model using the fit method with the train_generator and validation_generator generator objects as input, for 40 epochs, with a batch size specified by the generator objects, and uses the ReduceLROnPlateau callback to adjust the learning rate when \n",
    "#the validation loss plateaus. The training history is stored in the history variable.\n",
    "\n",
    "model.compile(loss='categorical_crossentropy',optimizer='adam',metrics=['accuracy'])\n",
    "history = model.fit(    \n",
    "    train_generator,\n",
    "    steps_per_epoch=None,\n",
    "    epochs=40,\n",
    "    validation_data=validation_generator,\n",
    "    validation_steps=4,\n",
    "    verbose=1,\n",
    "    callbacks=[ReduceLROnPlateau(monitor='val_loss', factor=0.3,patience=3, min_lr=0.000001)],\n",
    "    shuffle=True)"
   ]
  },
  {
   "cell_type": "code",
   "execution_count": 9,
   "id": "abae0a2e",
   "metadata": {},
   "outputs": [
    {
     "name": "stdout",
     "output_type": "stream",
     "text": [
      "[INFO] Calculating model accuracy\n",
      "32/32 [==============================] - 295s 9s/step - loss: 0.5138 - accuracy: 0.9256\n",
      "Test Accuracy: 92.5595223903656\n"
     ]
    }
   ],
   "source": [
    "print(\"[INFO] Calculating model accuracy\")\n",
    "scores = model.evaluate(validation_generator)\n",
    "print(f\"Test Accuracy: {scores[1]*100}\")"
   ]
  },
  {
   "cell_type": "code",
   "execution_count": 10,
   "id": "5078eeba",
   "metadata": {},
   "outputs": [
    {
     "name": "stdout",
     "output_type": "stream",
     "text": [
      "2/2 [==============================] - 15s 10s/step - loss: 0.0697 - accuracy: 1.0000\n",
      "    Test Loss: 0.06970\n",
      "Test Accuracy: 100.00%\n"
     ]
    }
   ],
   "source": [
    "results = model.evaluate(test_generator, verbose=1)\n",
    "\n",
    "print(\"    Test Loss: {:.5f}\".format(results[0]))\n",
    "print(\"Test Accuracy: {:.2f}%\".format(results[1] * 100))\n",
    "     "
   ]
  },
  {
   "cell_type": "code",
   "execution_count": 11,
   "id": "3852e8d2",
   "metadata": {},
   "outputs": [
    {
     "name": "stdout",
     "output_type": "stream",
     "text": [
      "2/2 [==============================] - 19s 5s/step\n"
     ]
    }
   ],
   "source": [
    "# Predict the label of the test_gen\n",
    "pred = model.predict(test_generator,verbose=1)\n",
    "pred = np.argmax(pred,axis=1)\n",
    "\n",
    "# Map the label\n",
    "labels = (train_generator.class_indices)\n",
    "labels = dict((v,k) for k,v in labels.items())\n",
    "pred = [labels[k] for k in pred]"
   ]
  },
  {
   "cell_type": "code",
   "execution_count": null,
   "id": "748f6828",
   "metadata": {},
   "outputs": [],
   "source": []
  },
  {
   "cell_type": "code",
   "execution_count": null,
   "id": "9d478f7a",
   "metadata": {},
   "outputs": [],
   "source": [
    "\n",
    "import warnings\n",
    "warnings.filterwarnings(\"ignore\")"
   ]
  },
  {
   "cell_type": "code",
   "execution_count": null,
   "id": "c8545bf3",
   "metadata": {},
   "outputs": [],
   "source": [
    "#mode"
   ]
  },
  {
   "cell_type": "code",
   "execution_count": null,
   "id": "91dbf9ba",
   "metadata": {},
   "outputs": [],
   "source": []
  },
  {
   "cell_type": "code",
   "execution_count": 12,
   "id": "4ba9d045",
   "metadata": {},
   "outputs": [
    {
     "name": "stdout",
     "output_type": "stream",
     "text": [
      "dict_keys(['loss', 'accuracy', 'val_loss', 'val_accuracy', 'lr'])\n"
     ]
    },
    {
     "data": {
      "image/png": "[encoded data removed]",
      "text/plain": [
       "<Figure size 432x288 with 1 Axes>"
      ]
     },
     "metadata": {
      "needs_background": "light"
     },
     "output_type": "display_data"
    },
    {
     "data": {
      "image/png": "[encoded data removed]",
      "text/plain": [
       "<Figure size 432x288 with 1 Axes>"
      ]
     },
     "metadata": {
      "needs_background": "light"
     },
     "output_type": "display_data"
    }
   ],
   "source": [
    "from keras.models import Sequential\n",
    "from keras.layers import Dense\n",
    "import matplotlib.pyplot as plt\n",
    "import numpy\n",
    "\n",
    "print(history.history.keys())\n",
    "\n",
    "plt.plot(history.history['accuracy'])\n",
    "plt.plot(history.history['val_accuracy'])\n",
    "plt.title('model accuracy')\n",
    "plt.ylabel('accuracy')\n",
    "plt.xlabel('epoch')\n",
    "plt.legend(['train', 'test'], loc='upper left')\n",
    "plt.show()\n",
    "# summarize history for loss\n",
    "plt.plot(history.history['loss'])\n",
    "plt.plot(history.history['val_loss'])\n",
    "plt.title('model loss')\n",
    "plt.ylabel('loss')\n",
    "plt.xlabel('epoch')\n",
    "plt.legend(['train', 'test'], loc='upper left')\n",
    "plt.show()"
   ]
  },
  {
   "cell_type": "code",
   "execution_count": 15,
   "id": "b84b3365",
   "metadata": {},
   "outputs": [],
   "source": [
    "model.save('New_Alexnet_1.h5')"
   ]
  },
  {
   "cell_type": "code",
   "execution_count": null,
   "id": "3f866fe5",
   "metadata": {},
   "outputs": [],
   "source": []
  },
  {
   "cell_type": "code",
   "execution_count": 16,
   "id": "3484c609",
   "metadata": {},
   "outputs": [
    {
     "name": "stdout",
     "output_type": "stream",
     "text": [
      "32/32 [==============================] - 316s 10s/step\n"
     ]
    },
    {
     "data": {
      "image/png": "[encoded data removed]",
      "text/plain": [
       "<Figure size 432x288 with 1 Axes>"
      ]
     },
     "metadata": {
      "needs_background": "light"
     },
     "output_type": "display_data"
    }
   ],
   "source": [
    "import numpy as np\n",
    "import matplotlib.pyplot as plt\n",
    "\n",
    "# Get the predicted probabilities for the validation set\n",
    "y_pred = model.predict(validation_generator)\n",
    "\n",
    "# Convert the predicted probabilities to class predictions\n",
    "y_pred_classes = np.argmax(y_pred, axis=1)\n",
    "y_true = validation_generator.classes\n",
    "\n",
    "# Calculate the difference between predicted and actual values\n",
    "errors = y_true - y_pred_classes\n",
    "\n",
    "# Create a histogram of the errors with 20 bins\n",
    "plt.hist(errors, bins=20)\n",
    "plt.xlabel('Prediction Error')\n",
    "plt.ylabel('Count')\n",
    "plt.show()"
   ]
  },
  {
   "cell_type": "code",
   "execution_count": null,
   "id": "b1e59532",
   "metadata": {},
   "outputs": [],
   "source": []
  },
  {
   "cell_type": "code",
   "execution_count": null,
   "id": "028e0c17",
   "metadata": {},
   "outputs": [],
   "source": []
  },
  {
   "cell_type": "code",
   "execution_count": null,
   "id": "2dc61905",
   "metadata": {},
   "outputs": [],
   "source": []
  },
  {
   "cell_type": "code",
   "execution_count": null,
   "id": "57bc6e8f",
   "metadata": {},
   "outputs": [],
   "source": []
  },
  {
   "cell_type": "code",
   "execution_count": null,
   "id": "fa0e3cf2",
   "metadata": {},
   "outputs": [],
   "source": []
  },
  {
   "cell_type": "code",
   "execution_count": null,
   "id": "5fdca45b",
   "metadata": {},
   "outputs": [],
   "source": []
  },
  {
   "cell_type": "code",
   "execution_count": null,
   "id": "6f866c4c",
   "metadata": {},
   "outputs": [],
   "source": []
  },
  {
   "cell_type": "code",
   "execution_count": null,
   "id": "08561af4",
   "metadata": {},
   "outputs": [],
   "source": []
  }
 ],
 "metadata": {
  "kernelspec": {
   "display_name": "Python 3 (ipykernel)",
   "language": "python",
   "name": "python3"
  },
  "language_info": {
   "codemirror_mode": {
    "name": "ipython",
    "version": 3
   },
   "file_extension": ".py",
   "mimetype": "text/x-python",
   "name": "python",
   "nbconvert_exporter": "python",
   "pygments_lexer": "ipython3",
   "version": "3.9.12"
  }
 },
 "nbformat": 4,
 "nbformat_minor": 5
}
